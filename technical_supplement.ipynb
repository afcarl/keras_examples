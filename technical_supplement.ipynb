{
 "cells": [
  {
   "cell_type": "code",
   "execution_count": 2,
   "metadata": {
    "collapsed": true
   },
   "outputs": [],
   "source": [
    "import random\n",
    "import numpy as np\n",
    "import matplotlib.pyplot as plt\n",
    "%matplotlib inline"
   ]
  },
  {
   "cell_type": "markdown",
   "metadata": {},
   "source": [
    "# Technical Supplement\n",
    "\n",
    "In this notebook we cover some common machine learning concepts. "
   ]
  },
  {
   "cell_type": "markdown",
   "metadata": {},
   "source": [
    "# Cross Entropy\n",
    "\n",
    "Also called the \"log loss\" function, this is an objective loss function that is used for classification.  For $N$ samples and $M$ classes the cross entropy is,  \n",
    "\n",
    "$$\n",
    "\\mathcal{E}(Y_t, Y_p) = -\\frac{1}{N} \\sum_{i=1}^{N} \\sum_{j=1}^{M}\n",
    "Y_t^{i,j} \\log(Y_p^{i,j}) \n",
    "$$\n",
    "\n",
    "The variable $Y_p^{i,j}$ is the model prediction (a probability) that sample $i$ is class $j$.  The variable $Y_t^{i,j}$ is a binary variable that takes on the value 1 if the true class of sample $i$ is class $j$ and 0 otherwise.  This function takes two vectors and returns a scalar value. "
   ]
  },
  {
   "cell_type": "markdown",
   "metadata": {},
   "source": [
    "# Binary Cross Entropy\n",
    "\n",
    "In the special case of binary classification (i.e. a problem where the target variable can only take on values of 0 or 1) the general cross entropy formula yields, \n",
    "\n",
    "$$\n",
    "\\mathcal{E}(Y_t, Y_p) = -\\frac{1}{N} \\sum_{i=1}^{N} \n",
    "\\left[ \n",
    "Y_t^{i,1} \\log(Y_p^{i,1}) + \n",
    "Y_t^{i,2} \\log(Y_p^{i,2})\n",
    "\\right]\n",
    "$$\n",
    "\n",
    "If we take advantage of the fact that $Y_t^{i,2} = 1 - Y_t^{i,1}$ and $Y_p^{i,2} = 1 - Y_p^{i,1}$ we can write \n",
    "\n",
    "$$\n",
    "\\mathcal{E}(Y_t, Y_p) = -\\frac{1}{N} \\sum_{i=1}^{N} \n",
    "\\left[ \n",
    "Y_t^{i,1} \\log(Y_p^{i,1}) + \n",
    "(1-Y_t^{i,1}) \\log(1-Y_p^{i,1})\n",
    "\\right]\n",
    "$$\n",
    "\n",
    "and at this point the $j=1$ label is superfluous and we can simply write, \n",
    "\n",
    "$$\n",
    "\\mathcal{E}(Y_t, Y_p) = -\\frac{1}{N} \\sum_{i=1}^{N} \n",
    "\\left[ \n",
    "Y_t^{i} \\log(Y_p^{i}) + \n",
    "(1-Y_t^{i}) \\log(1-Y_p^{i})\n",
    "\\right]\n",
    "$$"
   ]
  },
  {
   "cell_type": "code",
   "execution_count": 3,
   "metadata": {
    "collapsed": true
   },
   "outputs": [],
   "source": [
    "def binary_crossentropy(Yt, Yp):\n",
    "    epsilon = 1e-15\n",
    "    Yp = np.maximum(epsilon, Yp)\n",
    "    Yp = np.minimum(1-epsilon, Yp)\n",
    "    ll = sum(Yt * np.log(Yp) + np.subtract(1,Yt) * np.log(np.subtract(1,Yp)))\n",
    "    ll = ll * -1.0 / len(Yt)\n",
    "    return ll"
   ]
  },
  {
   "cell_type": "markdown",
   "metadata": {
    "collapsed": true
   },
   "source": [
    "We can look at the contribution of a single sample to the binary cross entropy as a function of the difference between the prediction and the actual true class value. "
   ]
  },
  {
   "cell_type": "code",
   "execution_count": 4,
   "metadata": {
    "collapsed": false
   },
   "outputs": [
    {
     "data": {
      "text/plain": [
       "[<matplotlib.lines.Line2D at 0x7ff1a3a1dc88>]"
      ]
     },
     "execution_count": 4,
     "metadata": {},
     "output_type": "execute_result"
    },
    {
     "data": {
      "image/png": "[encoded data removed]",
      "text/plain": [
       "<matplotlib.figure.Figure at 0x7ff1a3a1dd30>"
      ]
     },
     "metadata": {},
     "output_type": "display_data"
    }
   ],
   "source": [
    "Yps = np.linspace(0.001, 0.999, 100)\n",
    "Yt = 0\n",
    "bce_0 = []\n",
    "for Yp in Yps:\n",
    "    bce_0.append(binary_crossentropy([Yt], [Yp]))\n",
    "Yt = 1\n",
    "bce_1 = []\n",
    "for Yp in Yps:\n",
    "    bce_1.append(binary_crossentropy([Yt], [Yp]))\n",
    "\n",
    "plt.plot(Yps, bce_0, color='blue')    \n",
    "plt.plot(Yps, bce_1, color='red')"
   ]
  },
  {
   "cell_type": "markdown",
   "metadata": {},
   "source": [
    "# Linear Separability"
   ]
  },
  {
   "cell_type": "markdown",
   "metadata": {},
   "source": [
    "Some notes on the concept of linear separability and its application to machine learning. "
   ]
  },
  {
   "cell_type": "markdown",
   "metadata": {},
   "source": [
    "## Formal Definition\n",
    "\n",
    "Technically, two sets of points ($P_0$ and $P_1$) are linearly separable if a single hyperplane can divide the space they live in such that all points in $P_0$ are on one side of the hyperplane and all points in $P_1$ are on the other side of the hyperplane.  A hyperplane divides space into two half-spaces and is defined in $n$-dimensions by all the points that satisfy the following equation, \n",
    "\n",
    "$$\n",
    "g(\\vec{x}) = \\sum_{i=1}^{n} a_i x_i = \\vec{a} \\cdot \\vec{x} = b \n",
    "$$\n",
    "\n",
    "where the $n+1$ constants $a_1$, $a_2$, ..., $a_n$ and $b$ determine the orientation and position of the hyperplane and $x_1$, $x_2$, ..., $x_n$ are the coordinates of a point.  The vector $\\vec{a}$ is normal to the hyperplane.  Points for which $g(\\vec{x}) - b > 0$ are in the half-space the normal vector extends into and points for which $g(\\vec{x}) -b < 0$ are in the other half-space.  If $g(\\vec{x}) - b = 0$ then the point $\\vec{x}$ is on the hyperplane. \n",
    "\n",
    "A hyperplane is simply a fancy name for a geometric object that divides an n-dimensional space in two.  If we are working with 1-dimensional data, a hyperplane is a point (dividing a line in two).  If we are working with two dimensional data, a hyperplane is a line (dividing a plane in two).  If we are working with three dimensional data, a hyperplane is ... well ... a plane.  This concept can be extended to an arbitrary number of dimensions and the hyperplane always has one less dimension than the space that it is dividing.  \n",
    "\n",
    "Below we demonstrate the concept in 2-D. "
   ]
  },
  {
   "cell_type": "code",
   "execution_count": 17,
   "metadata": {
    "collapsed": false
   },
   "outputs": [
    {
     "data": {
      "image/png": "[encoded data removed]",
      "text/plain": [
       "<matplotlib.figure.Figure at 0x7f8ebb83e550>"
      ]
     },
     "metadata": {},
     "output_type": "display_data"
    }
   ],
   "source": [
    "# create figure\n",
    "fig = plt.figure(figsize=(5,5))\n",
    "\n",
    "# set parameters of hyperplane\n",
    "a1 = 2.0\n",
    "a2 = 1.0\n",
    "b = 3.0\n",
    "\n",
    "# generate points on hyperplane\n",
    "# a1 x1 + a2 x2 = b\n",
    "# x2 = (b - a1 x1) / a2\n",
    "npts = 100\n",
    "x1 = np.linspace(-20, 20, npts)\n",
    "x2 = (b - a1 * x1) / a2\n",
    "plt.plot(x1, x2, color='blue', lw=1.0)\n",
    "plt.xlim(-10,10)\n",
    "plt.ylim(-10,10)\n",
    "\n",
    "# plot normal to hyperplane\n",
    "n = (a1,a2)  # normal vector \n",
    "p = (x1[npts//2], x2[npts//2])  # choose some point on the hyperplane\n",
    "# draw a vector starting on the hyperplane and extending\n",
    "# in the direction of the normal vector \n",
    "plt.plot([p[0], p[0] + n[0]], [p[1], p[1] + n[1]], color='blue', lw=3.0)\n",
    "\n",
    "# generate some random points\n",
    "xrn = np.random.uniform(low=-10, high=10, size=20)\n",
    "yrn = np.random.uniform(low=-10, high=10, size=20)\n",
    "# determine which side of the hyperplane each point is on\n",
    "g = a1 * xrn + a2 * yrn - b\n",
    "for i in range(20):\n",
    "    # note that for g > 0 the points are on the side the normal vector points \n",
    "    if g[i] > 0: \n",
    "        color = 'red' \n",
    "    # for g < 0, we're on the other side of the hyperplane\n",
    "    else:\n",
    "        color='green'\n",
    "    plt.scatter([xrn[i]], [yrn[i]], s=10, color=color)"
   ]
  },
  {
   "cell_type": "code",
   "execution_count": null,
   "metadata": {
    "collapsed": true
   },
   "outputs": [],
   "source": []
  }
 ],
 "metadata": {
  "anaconda-cloud": {},
  "kernelspec": {
   "display_name": "Python 3",
   "language": "python",
   "name": "python3"
  },
  "language_info": {
   "codemirror_mode": {
    "name": "ipython",
    "version": 3
   },
   "file_extension": ".py",
   "mimetype": "text/x-python",
   "name": "python",
   "nbconvert_exporter": "python",
   "pygments_lexer": "ipython3",
   "version": "3.5.2"
  }
 },
 "nbformat": 4,
 "nbformat_minor": 2
}
